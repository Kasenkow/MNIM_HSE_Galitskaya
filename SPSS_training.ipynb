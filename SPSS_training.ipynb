{
 "cells": [
  {
   "cell_type": "code",
   "execution_count": 1,
   "metadata": {},
   "outputs": [],
   "source": [
    "#загружаем необходимые библиотеки\n",
    "import numpy as np\n",
    "import pandas as pd\n",
    "\n",
    "import matplotlib.pyplot as plt\n",
    "\n",
    "from scipy.stats import norm\n",
    "from scipy.stats import ttest_1samp\n",
    "from scipy.stats import levene\n",
    "from scipy.stats import ttest_ind\n",
    "from scipy.stats import ttest_rel"
   ]
  },
  {
   "cell_type": "code",
   "execution_count": 2,
   "metadata": {},
   "outputs": [],
   "source": [
    "#открываем файлы\n",
    "df04oes = pd.read_csv('04oes.csv', encoding = 'utf-8')\n",
    "df06m06 = pd.read_csv('06m06.csv', encoding = 'utf-8')\n",
    "df10p39 = pd.read_csv('10p39.csv')\n",
    "df04shk = pd.read_csv('04shk.csv')\n",
    "df05m35 = pd.read_csv('05m35.csv', encoding = 'utf-8')\n",
    "df06p13 = pd.read_csv('06p13.csv', encoding = 'utf-8')"
   ]
  },
  {
   "cell_type": "code",
   "execution_count": 3,
   "metadata": {},
   "outputs": [
    {
     "data": {
      "text/html": [
       "<div>\n",
       "<style scoped>\n",
       "    .dataframe tbody tr th:only-of-type {\n",
       "        vertical-align: middle;\n",
       "    }\n",
       "\n",
       "    .dataframe tbody tr th {\n",
       "        vertical-align: top;\n",
       "    }\n",
       "\n",
       "    .dataframe thead th {\n",
       "        text-align: right;\n",
       "    }\n",
       "</style>\n",
       "<table border=\"1\" class=\"dataframe\">\n",
       "  <thead>\n",
       "    <tr style=\"text-align: right;\">\n",
       "      <th></th>\n",
       "      <th>Unnamed: 0</th>\n",
       "      <th>Q7</th>\n",
       "      <th>Q8</th>\n",
       "      <th>Q48_1</th>\n",
       "      <th>Q48_2</th>\n",
       "      <th>Q48_3</th>\n",
       "      <th>Q48_4</th>\n",
       "      <th>Q48_5</th>\n",
       "      <th>Q48_6</th>\n",
       "      <th>Q48_7</th>\n",
       "      <th>Q48_8</th>\n",
       "      <th>Q48_9</th>\n",
       "      <th>Q48_10</th>\n",
       "      <th>Q9</th>\n",
       "      <th>Q11</th>\n",
       "      <th>Q15</th>\n",
       "      <th>Q64</th>\n",
       "      <th>Q13</th>\n",
       "    </tr>\n",
       "  </thead>\n",
       "  <tbody>\n",
       "    <tr>\n",
       "      <th>0</th>\n",
       "      <td>1</td>\n",
       "      <td>женский</td>\n",
       "      <td>50</td>\n",
       "      <td>0</td>\n",
       "      <td>\"Золотая семечка\"</td>\n",
       "      <td>0</td>\n",
       "      <td>0</td>\n",
       "      <td>0</td>\n",
       "      <td>0</td>\n",
       "      <td>0</td>\n",
       "      <td>0</td>\n",
       "      <td>0</td>\n",
       "      <td>0</td>\n",
       "      <td>высшее, незаконченное высшее</td>\n",
       "      <td>служащий, технический исполнитель</td>\n",
       "      <td>безусловно не смогу</td>\n",
       "      <td>большой город</td>\n",
       "      <td>3000.0</td>\n",
       "    </tr>\n",
       "    <tr>\n",
       "      <th>1</th>\n",
       "      <td>2</td>\n",
       "      <td>женский</td>\n",
       "      <td>77</td>\n",
       "      <td>0</td>\n",
       "      <td>0</td>\n",
       "      <td>0</td>\n",
       "      <td>0</td>\n",
       "      <td>0</td>\n",
       "      <td>0</td>\n",
       "      <td>0</td>\n",
       "      <td>0</td>\n",
       "      <td>0</td>\n",
       "      <td>0</td>\n",
       "      <td>начальное или ниже</td>\n",
       "      <td>NaN</td>\n",
       "      <td>безусловно не смогу</td>\n",
       "      <td>большой город</td>\n",
       "      <td>2000.0</td>\n",
       "    </tr>\n",
       "    <tr>\n",
       "      <th>2</th>\n",
       "      <td>3</td>\n",
       "      <td>мужской</td>\n",
       "      <td>48</td>\n",
       "      <td>\"Злато\"</td>\n",
       "      <td>\"Золотая семечка\"</td>\n",
       "      <td>0</td>\n",
       "      <td>0</td>\n",
       "      <td>0</td>\n",
       "      <td>0</td>\n",
       "      <td>0</td>\n",
       "      <td>0</td>\n",
       "      <td>0</td>\n",
       "      <td>0</td>\n",
       "      <td>среднее специальное</td>\n",
       "      <td>рабочий</td>\n",
       "      <td>безусловно не смогу</td>\n",
       "      <td>большой город</td>\n",
       "      <td>1700.0</td>\n",
       "    </tr>\n",
       "    <tr>\n",
       "      <th>3</th>\n",
       "      <td>4</td>\n",
       "      <td>женский</td>\n",
       "      <td>52</td>\n",
       "      <td>0</td>\n",
       "      <td>\"Золотая семечка\"</td>\n",
       "      <td>0</td>\n",
       "      <td>0</td>\n",
       "      <td>\"Милора\"</td>\n",
       "      <td>0</td>\n",
       "      <td>0</td>\n",
       "      <td>0</td>\n",
       "      <td>0</td>\n",
       "      <td>0</td>\n",
       "      <td>среднее специальное</td>\n",
       "      <td>NaN</td>\n",
       "      <td>безусловно не смогу</td>\n",
       "      <td>большой город</td>\n",
       "      <td>4000.0</td>\n",
       "    </tr>\n",
       "    <tr>\n",
       "      <th>4</th>\n",
       "      <td>5</td>\n",
       "      <td>мужской</td>\n",
       "      <td>46</td>\n",
       "      <td>0</td>\n",
       "      <td>0</td>\n",
       "      <td>0</td>\n",
       "      <td>0</td>\n",
       "      <td>0</td>\n",
       "      <td>0</td>\n",
       "      <td>0</td>\n",
       "      <td>0</td>\n",
       "      <td>0</td>\n",
       "      <td>0</td>\n",
       "      <td>среднее специальное</td>\n",
       "      <td>служащий, технический исполнитель</td>\n",
       "      <td>скорее не смогу</td>\n",
       "      <td>большой город</td>\n",
       "      <td>2000.0</td>\n",
       "    </tr>\n",
       "  </tbody>\n",
       "</table>\n",
       "</div>"
      ],
      "text/plain": [
       "   Unnamed: 0       Q7  Q8    Q48_1              Q48_2 Q48_3 Q48_4     Q48_5  \\\n",
       "0           1  женский  50        0  \"Золотая семечка\"     0     0         0   \n",
       "1           2  женский  77        0                  0     0     0         0   \n",
       "2           3  мужской  48  \"Злато\"  \"Золотая семечка\"     0     0         0   \n",
       "3           4  женский  52        0  \"Золотая семечка\"     0     0  \"Милора\"   \n",
       "4           5  мужской  46        0                  0     0     0         0   \n",
       "\n",
       "  Q48_6 Q48_7 Q48_8 Q48_9 Q48_10                            Q9  \\\n",
       "0     0     0     0     0      0  высшее, незаконченное высшее   \n",
       "1     0     0     0     0      0            начальное или ниже   \n",
       "2     0     0     0     0      0           среднее специальное   \n",
       "3     0     0     0     0      0           среднее специальное   \n",
       "4     0     0     0     0      0           среднее специальное   \n",
       "\n",
       "                                 Q11                  Q15            Q64  \\\n",
       "0  служащий, технический исполнитель  безусловно не смогу  большой город   \n",
       "1                                NaN  безусловно не смогу  большой город   \n",
       "2                            рабочий  безусловно не смогу  большой город   \n",
       "3                                NaN  безусловно не смогу  большой город   \n",
       "4  служащий, технический исполнитель      скорее не смогу  большой город   \n",
       "\n",
       "      Q13  \n",
       "0  3000.0  \n",
       "1  2000.0  \n",
       "2  1700.0  \n",
       "3  4000.0  \n",
       "4  2000.0  "
      ]
     },
     "execution_count": 3,
     "metadata": {},
     "output_type": "execute_result"
    }
   ],
   "source": [
    "df1 = df06p13\n",
    "df1.head() #что из себя представляет таблица 06p13?"
   ]
  },
  {
   "cell_type": "code",
   "execution_count": 4,
   "metadata": {},
   "outputs": [
    {
     "data": {
      "text/plain": [
       "array(['0', '\"Моя семья\"'], dtype=object)"
      ]
     },
     "execution_count": 4,
     "metadata": {},
     "output_type": "execute_result"
    }
   ],
   "source": [
    "df1['Q48_6'].unique() #интересующий нас вопрос анкеты представлен строковой переменной(!)"
   ]
  },
  {
   "cell_type": "code",
   "execution_count": 5,
   "metadata": {},
   "outputs": [
    {
     "data": {
      "text/plain": [
       "array(['женский', 'мужской'], dtype=object)"
      ]
     },
     "execution_count": 5,
     "metadata": {},
     "output_type": "execute_result"
    }
   ],
   "source": [
    "df1['Q7'].unique() #смотрим, какие значения принимает переменная \"Пол\" (Q7)"
   ]
  },
  {
   "cell_type": "code",
   "execution_count": 6,
   "metadata": {},
   "outputs": [
    {
     "data": {
      "text/plain": [
       "array([18, 19, 20, 21, 22, 23, 24, 25, 26, 27, 28, 29, 30, 31, 32, 33, 34,\n",
       "       35, 36, 37, 38, 39, 40, 41, 42, 43, 44, 45, 46, 47, 48, 49, 50, 51,\n",
       "       52, 53, 54, 55, 56, 57, 58, 59, 60, 61, 62, 63, 64, 65, 66, 67, 68,\n",
       "       69, 70, 71, 72, 73, 74, 75, 76, 77, 78, 79, 80, 81, 82, 83, 84, 85,\n",
       "       86, 87, 90], dtype=int64)"
      ]
     },
     "execution_count": 6,
     "metadata": {},
     "output_type": "execute_result"
    }
   ],
   "source": [
    "df1['Q8'].sort_values().unique() #смотрим, какие значения принимает переменная \"Возраст\" (Q8)"
   ]
  },
  {
   "cell_type": "code",
   "execution_count": 7,
   "metadata": {},
   "outputs": [],
   "source": [
    "#создаём новую бинарную переменную, которая принимает значение \"1\" для нашей целевой группы (мужчины в возрасте от 18 до 35) и \"0\" - во всех остальных случаях\n",
    "df1.loc[(df1['Q7'] == 'мужской') & (df1['Q8'] <= 35), 'New'] = 1\n",
    "df1['New'].fillna(0, inplace = True)"
   ]
  },
  {
   "cell_type": "code",
   "execution_count": 8,
   "metadata": {},
   "outputs": [
    {
     "data": {
      "text/html": [
       "<div>\n",
       "<style scoped>\n",
       "    .dataframe tbody tr th:only-of-type {\n",
       "        vertical-align: middle;\n",
       "    }\n",
       "\n",
       "    .dataframe tbody tr th {\n",
       "        vertical-align: top;\n",
       "    }\n",
       "\n",
       "    .dataframe thead th {\n",
       "        text-align: right;\n",
       "    }\n",
       "</style>\n",
       "<table border=\"1\" class=\"dataframe\">\n",
       "  <thead>\n",
       "    <tr style=\"text-align: right;\">\n",
       "      <th>New</th>\n",
       "      <th>0.0</th>\n",
       "      <th>1.0</th>\n",
       "      <th>All</th>\n",
       "    </tr>\n",
       "    <tr>\n",
       "      <th>Q7</th>\n",
       "      <th></th>\n",
       "      <th></th>\n",
       "      <th></th>\n",
       "    </tr>\n",
       "  </thead>\n",
       "  <tbody>\n",
       "    <tr>\n",
       "      <th>женский</th>\n",
       "      <td>1091</td>\n",
       "      <td>0</td>\n",
       "      <td>1091</td>\n",
       "    </tr>\n",
       "    <tr>\n",
       "      <th>мужской</th>\n",
       "      <td>574</td>\n",
       "      <td>351</td>\n",
       "      <td>925</td>\n",
       "    </tr>\n",
       "    <tr>\n",
       "      <th>All</th>\n",
       "      <td>1665</td>\n",
       "      <td>351</td>\n",
       "      <td>2016</td>\n",
       "    </tr>\n",
       "  </tbody>\n",
       "</table>\n",
       "</div>"
      ],
      "text/plain": [
       "New       0.0  1.0   All\n",
       "Q7                      \n",
       "женский  1091    0  1091\n",
       "мужской   574  351   925\n",
       "All      1665  351  2016"
      ]
     },
     "execution_count": 8,
     "metadata": {},
     "output_type": "execute_result"
    }
   ],
   "source": [
    "#pd.crosstab([df1['Q7'],df1['Q8']], df1['New'], margins = True) так можно сделать одну таблицу сопряжённости для 3 переменных\n",
    "pd.crosstab(df1['Q7'], df1['New'], margins = True) #таблица сопряжённости \"Пол\" vs \"New\""
   ]
  },
  {
   "cell_type": "code",
   "execution_count": 9,
   "metadata": {},
   "outputs": [
    {
     "data": {
      "text/html": [
       "<div>\n",
       "<style scoped>\n",
       "    .dataframe tbody tr th:only-of-type {\n",
       "        vertical-align: middle;\n",
       "    }\n",
       "\n",
       "    .dataframe tbody tr th {\n",
       "        vertical-align: top;\n",
       "    }\n",
       "\n",
       "    .dataframe thead th {\n",
       "        text-align: right;\n",
       "    }\n",
       "</style>\n",
       "<table border=\"1\" class=\"dataframe\">\n",
       "  <thead>\n",
       "    <tr style=\"text-align: right;\">\n",
       "      <th>New</th>\n",
       "      <th>0.0</th>\n",
       "      <th>1.0</th>\n",
       "      <th>All</th>\n",
       "    </tr>\n",
       "    <tr>\n",
       "      <th>Q8</th>\n",
       "      <th></th>\n",
       "      <th></th>\n",
       "      <th></th>\n",
       "    </tr>\n",
       "  </thead>\n",
       "  <tbody>\n",
       "    <tr>\n",
       "      <th>18</th>\n",
       "      <td>18</td>\n",
       "      <td>36</td>\n",
       "      <td>54</td>\n",
       "    </tr>\n",
       "    <tr>\n",
       "      <th>19</th>\n",
       "      <td>23</td>\n",
       "      <td>17</td>\n",
       "      <td>40</td>\n",
       "    </tr>\n",
       "    <tr>\n",
       "      <th>20</th>\n",
       "      <td>24</td>\n",
       "      <td>21</td>\n",
       "      <td>45</td>\n",
       "    </tr>\n",
       "    <tr>\n",
       "      <th>21</th>\n",
       "      <td>15</td>\n",
       "      <td>18</td>\n",
       "      <td>33</td>\n",
       "    </tr>\n",
       "    <tr>\n",
       "      <th>22</th>\n",
       "      <td>21</td>\n",
       "      <td>12</td>\n",
       "      <td>33</td>\n",
       "    </tr>\n",
       "    <tr>\n",
       "      <th>23</th>\n",
       "      <td>18</td>\n",
       "      <td>21</td>\n",
       "      <td>39</td>\n",
       "    </tr>\n",
       "    <tr>\n",
       "      <th>24</th>\n",
       "      <td>23</td>\n",
       "      <td>21</td>\n",
       "      <td>44</td>\n",
       "    </tr>\n",
       "    <tr>\n",
       "      <th>25</th>\n",
       "      <td>15</td>\n",
       "      <td>21</td>\n",
       "      <td>36</td>\n",
       "    </tr>\n",
       "    <tr>\n",
       "      <th>26</th>\n",
       "      <td>16</td>\n",
       "      <td>18</td>\n",
       "      <td>34</td>\n",
       "    </tr>\n",
       "    <tr>\n",
       "      <th>27</th>\n",
       "      <td>15</td>\n",
       "      <td>21</td>\n",
       "      <td>36</td>\n",
       "    </tr>\n",
       "    <tr>\n",
       "      <th>28</th>\n",
       "      <td>18</td>\n",
       "      <td>21</td>\n",
       "      <td>39</td>\n",
       "    </tr>\n",
       "    <tr>\n",
       "      <th>29</th>\n",
       "      <td>16</td>\n",
       "      <td>20</td>\n",
       "      <td>36</td>\n",
       "    </tr>\n",
       "    <tr>\n",
       "      <th>30</th>\n",
       "      <td>20</td>\n",
       "      <td>21</td>\n",
       "      <td>41</td>\n",
       "    </tr>\n",
       "    <tr>\n",
       "      <th>31</th>\n",
       "      <td>16</td>\n",
       "      <td>17</td>\n",
       "      <td>33</td>\n",
       "    </tr>\n",
       "    <tr>\n",
       "      <th>32</th>\n",
       "      <td>22</td>\n",
       "      <td>19</td>\n",
       "      <td>41</td>\n",
       "    </tr>\n",
       "    <tr>\n",
       "      <th>33</th>\n",
       "      <td>15</td>\n",
       "      <td>14</td>\n",
       "      <td>29</td>\n",
       "    </tr>\n",
       "    <tr>\n",
       "      <th>34</th>\n",
       "      <td>14</td>\n",
       "      <td>15</td>\n",
       "      <td>29</td>\n",
       "    </tr>\n",
       "    <tr>\n",
       "      <th>35</th>\n",
       "      <td>21</td>\n",
       "      <td>18</td>\n",
       "      <td>39</td>\n",
       "    </tr>\n",
       "    <tr>\n",
       "      <th>36</th>\n",
       "      <td>28</td>\n",
       "      <td>0</td>\n",
       "      <td>28</td>\n",
       "    </tr>\n",
       "    <tr>\n",
       "      <th>37</th>\n",
       "      <td>27</td>\n",
       "      <td>0</td>\n",
       "      <td>27</td>\n",
       "    </tr>\n",
       "    <tr>\n",
       "      <th>38</th>\n",
       "      <td>29</td>\n",
       "      <td>0</td>\n",
       "      <td>29</td>\n",
       "    </tr>\n",
       "    <tr>\n",
       "      <th>39</th>\n",
       "      <td>31</td>\n",
       "      <td>0</td>\n",
       "      <td>31</td>\n",
       "    </tr>\n",
       "    <tr>\n",
       "      <th>40</th>\n",
       "      <td>41</td>\n",
       "      <td>0</td>\n",
       "      <td>41</td>\n",
       "    </tr>\n",
       "    <tr>\n",
       "      <th>41</th>\n",
       "      <td>31</td>\n",
       "      <td>0</td>\n",
       "      <td>31</td>\n",
       "    </tr>\n",
       "    <tr>\n",
       "      <th>42</th>\n",
       "      <td>48</td>\n",
       "      <td>0</td>\n",
       "      <td>48</td>\n",
       "    </tr>\n",
       "    <tr>\n",
       "      <th>43</th>\n",
       "      <td>34</td>\n",
       "      <td>0</td>\n",
       "      <td>34</td>\n",
       "    </tr>\n",
       "    <tr>\n",
       "      <th>44</th>\n",
       "      <td>36</td>\n",
       "      <td>0</td>\n",
       "      <td>36</td>\n",
       "    </tr>\n",
       "    <tr>\n",
       "      <th>45</th>\n",
       "      <td>42</td>\n",
       "      <td>0</td>\n",
       "      <td>42</td>\n",
       "    </tr>\n",
       "    <tr>\n",
       "      <th>46</th>\n",
       "      <td>38</td>\n",
       "      <td>0</td>\n",
       "      <td>38</td>\n",
       "    </tr>\n",
       "    <tr>\n",
       "      <th>47</th>\n",
       "      <td>35</td>\n",
       "      <td>0</td>\n",
       "      <td>35</td>\n",
       "    </tr>\n",
       "    <tr>\n",
       "      <th>...</th>\n",
       "      <td>...</td>\n",
       "      <td>...</td>\n",
       "      <td>...</td>\n",
       "    </tr>\n",
       "    <tr>\n",
       "      <th>60</th>\n",
       "      <td>23</td>\n",
       "      <td>0</td>\n",
       "      <td>23</td>\n",
       "    </tr>\n",
       "    <tr>\n",
       "      <th>61</th>\n",
       "      <td>7</td>\n",
       "      <td>0</td>\n",
       "      <td>7</td>\n",
       "    </tr>\n",
       "    <tr>\n",
       "      <th>62</th>\n",
       "      <td>20</td>\n",
       "      <td>0</td>\n",
       "      <td>20</td>\n",
       "    </tr>\n",
       "    <tr>\n",
       "      <th>63</th>\n",
       "      <td>8</td>\n",
       "      <td>0</td>\n",
       "      <td>8</td>\n",
       "    </tr>\n",
       "    <tr>\n",
       "      <th>64</th>\n",
       "      <td>24</td>\n",
       "      <td>0</td>\n",
       "      <td>24</td>\n",
       "    </tr>\n",
       "    <tr>\n",
       "      <th>65</th>\n",
       "      <td>27</td>\n",
       "      <td>0</td>\n",
       "      <td>27</td>\n",
       "    </tr>\n",
       "    <tr>\n",
       "      <th>66</th>\n",
       "      <td>34</td>\n",
       "      <td>0</td>\n",
       "      <td>34</td>\n",
       "    </tr>\n",
       "    <tr>\n",
       "      <th>67</th>\n",
       "      <td>28</td>\n",
       "      <td>0</td>\n",
       "      <td>28</td>\n",
       "    </tr>\n",
       "    <tr>\n",
       "      <th>68</th>\n",
       "      <td>31</td>\n",
       "      <td>0</td>\n",
       "      <td>31</td>\n",
       "    </tr>\n",
       "    <tr>\n",
       "      <th>69</th>\n",
       "      <td>32</td>\n",
       "      <td>0</td>\n",
       "      <td>32</td>\n",
       "    </tr>\n",
       "    <tr>\n",
       "      <th>70</th>\n",
       "      <td>32</td>\n",
       "      <td>0</td>\n",
       "      <td>32</td>\n",
       "    </tr>\n",
       "    <tr>\n",
       "      <th>71</th>\n",
       "      <td>14</td>\n",
       "      <td>0</td>\n",
       "      <td>14</td>\n",
       "    </tr>\n",
       "    <tr>\n",
       "      <th>72</th>\n",
       "      <td>8</td>\n",
       "      <td>0</td>\n",
       "      <td>8</td>\n",
       "    </tr>\n",
       "    <tr>\n",
       "      <th>73</th>\n",
       "      <td>19</td>\n",
       "      <td>0</td>\n",
       "      <td>19</td>\n",
       "    </tr>\n",
       "    <tr>\n",
       "      <th>74</th>\n",
       "      <td>17</td>\n",
       "      <td>0</td>\n",
       "      <td>17</td>\n",
       "    </tr>\n",
       "    <tr>\n",
       "      <th>75</th>\n",
       "      <td>15</td>\n",
       "      <td>0</td>\n",
       "      <td>15</td>\n",
       "    </tr>\n",
       "    <tr>\n",
       "      <th>76</th>\n",
       "      <td>13</td>\n",
       "      <td>0</td>\n",
       "      <td>13</td>\n",
       "    </tr>\n",
       "    <tr>\n",
       "      <th>77</th>\n",
       "      <td>15</td>\n",
       "      <td>0</td>\n",
       "      <td>15</td>\n",
       "    </tr>\n",
       "    <tr>\n",
       "      <th>78</th>\n",
       "      <td>13</td>\n",
       "      <td>0</td>\n",
       "      <td>13</td>\n",
       "    </tr>\n",
       "    <tr>\n",
       "      <th>79</th>\n",
       "      <td>12</td>\n",
       "      <td>0</td>\n",
       "      <td>12</td>\n",
       "    </tr>\n",
       "    <tr>\n",
       "      <th>80</th>\n",
       "      <td>10</td>\n",
       "      <td>0</td>\n",
       "      <td>10</td>\n",
       "    </tr>\n",
       "    <tr>\n",
       "      <th>81</th>\n",
       "      <td>6</td>\n",
       "      <td>0</td>\n",
       "      <td>6</td>\n",
       "    </tr>\n",
       "    <tr>\n",
       "      <th>82</th>\n",
       "      <td>9</td>\n",
       "      <td>0</td>\n",
       "      <td>9</td>\n",
       "    </tr>\n",
       "    <tr>\n",
       "      <th>83</th>\n",
       "      <td>1</td>\n",
       "      <td>0</td>\n",
       "      <td>1</td>\n",
       "    </tr>\n",
       "    <tr>\n",
       "      <th>84</th>\n",
       "      <td>6</td>\n",
       "      <td>0</td>\n",
       "      <td>6</td>\n",
       "    </tr>\n",
       "    <tr>\n",
       "      <th>85</th>\n",
       "      <td>2</td>\n",
       "      <td>0</td>\n",
       "      <td>2</td>\n",
       "    </tr>\n",
       "    <tr>\n",
       "      <th>86</th>\n",
       "      <td>3</td>\n",
       "      <td>0</td>\n",
       "      <td>3</td>\n",
       "    </tr>\n",
       "    <tr>\n",
       "      <th>87</th>\n",
       "      <td>2</td>\n",
       "      <td>0</td>\n",
       "      <td>2</td>\n",
       "    </tr>\n",
       "    <tr>\n",
       "      <th>90</th>\n",
       "      <td>2</td>\n",
       "      <td>0</td>\n",
       "      <td>2</td>\n",
       "    </tr>\n",
       "    <tr>\n",
       "      <th>All</th>\n",
       "      <td>1665</td>\n",
       "      <td>351</td>\n",
       "      <td>2016</td>\n",
       "    </tr>\n",
       "  </tbody>\n",
       "</table>\n",
       "<p>72 rows × 3 columns</p>\n",
       "</div>"
      ],
      "text/plain": [
       "New   0.0  1.0   All\n",
       "Q8                  \n",
       "18     18   36    54\n",
       "19     23   17    40\n",
       "20     24   21    45\n",
       "21     15   18    33\n",
       "22     21   12    33\n",
       "23     18   21    39\n",
       "24     23   21    44\n",
       "25     15   21    36\n",
       "26     16   18    34\n",
       "27     15   21    36\n",
       "28     18   21    39\n",
       "29     16   20    36\n",
       "30     20   21    41\n",
       "31     16   17    33\n",
       "32     22   19    41\n",
       "33     15   14    29\n",
       "34     14   15    29\n",
       "35     21   18    39\n",
       "36     28    0    28\n",
       "37     27    0    27\n",
       "38     29    0    29\n",
       "39     31    0    31\n",
       "40     41    0    41\n",
       "41     31    0    31\n",
       "42     48    0    48\n",
       "43     34    0    34\n",
       "44     36    0    36\n",
       "45     42    0    42\n",
       "46     38    0    38\n",
       "47     35    0    35\n",
       "..    ...  ...   ...\n",
       "60     23    0    23\n",
       "61      7    0     7\n",
       "62     20    0    20\n",
       "63      8    0     8\n",
       "64     24    0    24\n",
       "65     27    0    27\n",
       "66     34    0    34\n",
       "67     28    0    28\n",
       "68     31    0    31\n",
       "69     32    0    32\n",
       "70     32    0    32\n",
       "71     14    0    14\n",
       "72      8    0     8\n",
       "73     19    0    19\n",
       "74     17    0    17\n",
       "75     15    0    15\n",
       "76     13    0    13\n",
       "77     15    0    15\n",
       "78     13    0    13\n",
       "79     12    0    12\n",
       "80     10    0    10\n",
       "81      6    0     6\n",
       "82      9    0     9\n",
       "83      1    0     1\n",
       "84      6    0     6\n",
       "85      2    0     2\n",
       "86      3    0     3\n",
       "87      2    0     2\n",
       "90      2    0     2\n",
       "All  1665  351  2016\n",
       "\n",
       "[72 rows x 3 columns]"
      ]
     },
     "execution_count": 9,
     "metadata": {},
     "output_type": "execute_result"
    }
   ],
   "source": [
    "pd.crosstab(df1['Q8'], df1['New'], margins = True) #таблица сопряжённости \"Возраст\" vs \"New\""
   ]
  },
  {
   "cell_type": "code",
   "execution_count": 10,
   "metadata": {},
   "outputs": [],
   "source": [
    "#выставляем фильтр по нашей новой переменной, чтобы рассматривать информированность о продукте только среди целевой группы:\n",
    "newdf1 = df1.loc[df1['New'] == 1]"
   ]
  },
  {
   "cell_type": "code",
   "execution_count": 11,
   "metadata": {},
   "outputs": [
    {
     "name": "stderr",
     "output_type": "stream",
     "text": [
      "E:\\Anaconda\\lib\\site-packages\\ipykernel_launcher.py:2: SettingWithCopyWarning: \n",
      "A value is trying to be set on a copy of a slice from a DataFrame.\n",
      "Try using .loc[row_indexer,col_indexer] = value instead\n",
      "\n",
      "See the caveats in the documentation: http://pandas.pydata.org/pandas-docs/stable/indexing.html#indexing-view-versus-copy\n",
      "  \n",
      "E:\\Anaconda\\lib\\site-packages\\ipykernel_launcher.py:3: SettingWithCopyWarning: \n",
      "A value is trying to be set on a copy of a slice from a DataFrame.\n",
      "Try using .loc[row_indexer,col_indexer] = value instead\n",
      "\n",
      "See the caveats in the documentation: http://pandas.pydata.org/pandas-docs/stable/indexing.html#indexing-view-versus-copy\n",
      "  This is separate from the ipykernel package so we can avoid doing imports until\n"
     ]
    },
    {
     "data": {
      "text/plain": [
       "array([1, 0], dtype=int64)"
      ]
     },
     "execution_count": 11,
     "metadata": {},
     "output_type": "execute_result"
    }
   ],
   "source": [
    "#заменим значения переменной Q48_6 на цифры, чтобы было можно посчитать среднее:\n",
    "newdf1['Q48_6'] = newdf1['Q48_6'].replace('\"Моя семья\"', 1)\n",
    "newdf1['Q48_6'] = newdf1['Q48_6'].replace('0', 0)\n",
    "newdf1['Q48_6'].unique()#проверка"
   ]
  },
  {
   "cell_type": "markdown",
   "metadata": {},
   "source": [
    "2.1. информированность о марке подсолнечного масла \"Моя семья\" среди мужчин 18 – 35 лет превышает 38% (?) 06p13 \"z-test\" & t-test"
   ]
  },
  {
   "cell_type": "code",
   "execution_count": 12,
   "metadata": {},
   "outputs": [
    {
     "name": "stderr",
     "output_type": "stream",
     "text": [
      "E:\\Anaconda\\lib\\site-packages\\ipykernel_launcher.py:2: UserWarning: Boolean Series key will be reindexed to match DataFrame index.\n",
      "  \n"
     ]
    }
   ],
   "source": [
    "#можно не создавать новую переменную, а сразу отобрать наблюдения для целевой группы:\n",
    "df1_1 = df1[df1['Q7'] == 'мужской'][df1['Q8'] < 36]"
   ]
  },
  {
   "cell_type": "code",
   "execution_count": 13,
   "metadata": {},
   "outputs": [],
   "source": [
    "df1_1['Q48_6'] = df1_1['Q48_6'].replace('\"Моя семья\"', 1)\n",
    "df1_1['Q48_6'] = df1_1['Q48_6'].replace('0', 0)"
   ]
  },
  {
   "cell_type": "code",
   "execution_count": 56,
   "metadata": {},
   "outputs": [
    {
     "data": {
      "text/plain": [
       "False"
      ]
     },
     "execution_count": 56,
     "metadata": {},
     "output_type": "execute_result"
    }
   ],
   "source": [
    "#Z-test pryamaya shema:\n",
    "p_zad = 0.38\n",
    "n = len(df1_1[df1_1['Q48_6'] == 1])\n",
    "N = len(df1_1['Q48_6'])\n",
    "alpha = 0.05\n",
    "\n",
    "#(alpha - (1 - norm.cdf(((n/N) - p_zad)/(((p_zad*(1-p_zad))/N)**.5)))) < 0\n",
    "p_vyb = n/N\n",
    "stdev_vyb = ((p_zad*(1-p_zad))/N)**.5\n",
    "Z_star = (p_vyb - p_zad)/stdev_vyb\n",
    "VerH0 = 1 - norm.cdf(Z_star)\n",
    "(alpha - VerH0) < 0"
   ]
  },
  {
   "cell_type": "code",
   "execution_count": 60,
   "metadata": {},
   "outputs": [
    {
     "data": {
      "text/plain": [
       "False"
      ]
     },
     "execution_count": 60,
     "metadata": {},
     "output_type": "execute_result"
    }
   ],
   "source": [
    "#Z-test obratnaya shema:\n",
    "p_zad = 0.38\n",
    "n = len(df1_1[df1_1['Q48_6'] == 1])\n",
    "N = len(df1_1['Q48_6'])\n",
    "alpha = 0.05\n",
    "\n",
    "#((n/N) - (norm.ppf(1-alpha) * ((p_zad*(1-p_zad))/N)**.5 + p_zad)) < 0\n",
    "Z_alpha = norm.ppf(1-alpha)\n",
    "stdev_vyb = ((p_zad*(1-p_zad))/N)**.5\n",
    "p_alpha = Z_alpha * stdev_vyb + p_zad\n",
    "p_vyb = n/N\n",
    "(p_vyb - p_alpha) < 0"
   ]
  },
  {
   "cell_type": "markdown",
   "metadata": {},
   "source": [
    "# Мы отклоняем нулевую гипотезу и принимаем альтернативную: осведомлённость выше 38%"
   ]
  },
  {
   "cell_type": "code",
   "execution_count": 75,
   "metadata": {},
   "outputs": [
    {
     "data": {
      "text/plain": [
       "Ttest_1sampResult(statistic=1.6844038786290607, pvalue=0.09299512142993895)"
      ]
     },
     "execution_count": 75,
     "metadata": {},
     "output_type": "execute_result"
    }
   ],
   "source": [
    "#Одновыборочный тест Стьюдента. проверяем гипотезу Н0 о равенстве долей выборки и ГС (двусторонний тест):\n",
    "ttest_1samp(df1_1['Q48_6'], 0.38)"
   ]
  },
  {
   "cell_type": "code",
   "execution_count": 76,
   "metadata": {},
   "outputs": [
    {
     "data": {
      "text/plain": [
       "False"
      ]
     },
     "execution_count": 76,
     "metadata": {},
     "output_type": "execute_result"
    }
   ],
   "source": [
    "(ttest_1samp(df1_1['Q48_6'], 0.38)[1]/2) > 0.05"
   ]
  },
  {
   "cell_type": "markdown",
   "metadata": {},
   "source": [
    "# Мы отклоняем нулевую гипотезу и принимаем альтернативную: осведомлённость выше 38%"
   ]
  },
  {
   "cell_type": "markdown",
   "metadata": {},
   "source": [
    "2.2. организация работы раздевалок нравилась более чем 61% бывших клиентов (?) 04oes z-test & t-test\n",
    "исключить в 12-м вопросе \"не посещал\" и \"нет ответа\""
   ]
  },
  {
   "cell_type": "code",
   "execution_count": 77,
   "metadata": {},
   "outputs": [
    {
     "name": "stderr",
     "output_type": "stream",
     "text": [
      "E:\\Anaconda\\lib\\site-packages\\ipykernel_launcher.py:7: SettingWithCopyWarning: \n",
      "A value is trying to be set on a copy of a slice from a DataFrame.\n",
      "Try using .loc[row_indexer,col_indexer] = value instead\n",
      "\n",
      "See the caveats in the documentation: http://pandas.pydata.org/pandas-docs/stable/indexing.html#indexing-view-versus-copy\n",
      "  import sys\n",
      "E:\\Anaconda\\lib\\site-packages\\ipykernel_launcher.py:5: SettingWithCopyWarning: \n",
      "A value is trying to be set on a copy of a slice from a DataFrame.\n",
      "Try using .loc[row_indexer,col_indexer] = value instead\n",
      "\n",
      "See the caveats in the documentation: http://pandas.pydata.org/pandas-docs/stable/indexing.html#indexing-view-versus-copy\n",
      "  \"\"\"\n"
     ]
    }
   ],
   "source": [
    "df04oes = pd.read_csv('04oes.csv', encoding = 'utf-8')\n",
    "df2 = df04oes[(df04oes['m12'] != 'не посещал(-а)') & (df04oes['m12'] != 'Нет ответа')]\n",
    "for i in df2['m12'].unique():\n",
    "    if (i == 'безусловно нравилось' or i == 'скорее нравилось'):\n",
    "        df2['m12'] = df2['m12'].replace(i, 1)\n",
    "    else:\n",
    "        df2['m12'] = df2['m12'].replace(i, 0)\n",
    "v04oes = df2['m12'].values"
   ]
  },
  {
   "cell_type": "code",
   "execution_count": 78,
   "metadata": {},
   "outputs": [
    {
     "data": {
      "text/plain": [
       "Ttest_1sampResult(statistic=1.5451911578460809, pvalue=0.12379851846576297)"
      ]
     },
     "execution_count": 78,
     "metadata": {},
     "output_type": "execute_result"
    }
   ],
   "source": [
    "ttest_1samp(v04oes, 0.61)"
   ]
  },
  {
   "cell_type": "code",
   "execution_count": 79,
   "metadata": {},
   "outputs": [
    {
     "data": {
      "text/plain": [
       "True"
      ]
     },
     "execution_count": 79,
     "metadata": {},
     "output_type": "execute_result"
    }
   ],
   "source": [
    "(ttest_1samp(v04oes, 0.61)[1]/2) > 0.05"
   ]
  },
  {
   "cell_type": "markdown",
   "metadata": {},
   "source": [
    "# на данном уровне значимости нам не удалось отклонить нулевую гипотезу. организация работы раздевалок нравилась не более чем 61% бывших клиентов "
   ]
  },
  {
   "cell_type": "markdown",
   "metadata": {},
   "source": [
    "3.1. №8 и №36. различия в доходах, 2 3 балла и 4 5 по истории. Independent samples, means. Levene's test for equality of variances --> t-test 4 equality of means 4shk"
   ]
  },
  {
   "cell_type": "code",
   "execution_count": 80,
   "metadata": {},
   "outputs": [],
   "source": [
    "df3 = pd.read_csv('04shk.csv')\n",
    "for i in df3['q8'].unique():\n",
    "    if (i == 4 or i == 5):\n",
    "        df3['q8'] = df3['q8'].replace(i, 1)\n",
    "    elif (i == 2 or i == 3):\n",
    "        df3['q8'] = df3['q8'].replace(i, 0)\n",
    "otl = df3[df3['q8'] == 1]['q36'].values\n",
    "dvo = df3[df3['q8'] == 0]['q36'].values\n",
    "otl = otl[~np.isnan(otl)]\n",
    "dvo = dvo[~np.isnan(dvo)]"
   ]
  },
  {
   "cell_type": "markdown",
   "metadata": {},
   "source": [
    "## SPSS использует только среднее значение для центра в тесте Левиня (а возможны также медиана и 'trimmed')!!!\n",
    "median - skewed (non-normal) dist.; mean - symmetric, moderate-tailed; trimmed - heavy-tailed"
   ]
  },
  {
   "cell_type": "code",
   "execution_count": 81,
   "metadata": {},
   "outputs": [
    {
     "data": {
      "text/plain": [
       "Ttest_indResult(statistic=2.3204182136835705, pvalue=0.021506181298543467)"
      ]
     },
     "execution_count": 81,
     "metadata": {},
     "output_type": "execute_result"
    }
   ],
   "source": [
    "ttest_ind(otl, dvo, equal_var = (levene(otl, dvo, center = 'mean')[1] > 0.05))"
   ]
  },
  {
   "cell_type": "code",
   "execution_count": 82,
   "metadata": {},
   "outputs": [
    {
     "data": {
      "text/plain": [
       "False"
      ]
     },
     "execution_count": 82,
     "metadata": {},
     "output_type": "execute_result"
    }
   ],
   "source": [
    "(ttest_ind(otl, dvo, equal_var = (levene(otl, dvo, center = 'mean')[1] > 0.05))[1])/2 > 0.05"
   ]
  },
  {
   "cell_type": "markdown",
   "metadata": {},
   "source": [
    "# Мы отклоняем нулевую гипотезу и принимаем альтернативную: доходы значимо различаются"
   ]
  },
  {
   "cell_type": "markdown",
   "metadata": {},
   "source": [
    "3.2. №30, 33, 34. траты на обучение в 2004 по сравн. с 2003. \"живём неплохо\" и ниже в 30-м (paired samples t-test) 4shk"
   ]
  },
  {
   "cell_type": "code",
   "execution_count": 83,
   "metadata": {},
   "outputs": [
    {
     "data": {
      "text/plain": [
       "array(['Живем обеспеченно. Удается не только хорошо питаться, модно ',\n",
       "       'Живем неплохо. Нормально питаемся, покупаем кое-что из модно',\n",
       "       'Удается сводить концы с концами, нормально питаемся. Приобре',\n",
       "       'Часто не хватает средств на самое необходимое, даже на норма',\n",
       "       'Ни в чем себе не отказываем: ни в еде, ни в одежде, ни в при',\n",
       "       '0'], dtype=object)"
      ]
     },
     "execution_count": 83,
     "metadata": {},
     "output_type": "execute_result"
    }
   ],
   "source": [
    "df4 = pd.read_csv('04shk.csv')\n",
    "df4['q30'].unique()"
   ]
  },
  {
   "cell_type": "code",
   "execution_count": 84,
   "metadata": {},
   "outputs": [],
   "source": [
    "data = df4[(df4['q30'] != 'Ни в чем себе не отказываем: ни в еде, ни в одежде, ни в при')\n",
    "           & (df4['q30'] != '0')\n",
    "           & (df4['q30'] != 'Живем обеспеченно. Удается не только хорошо питаться, модно ')]\n",
    "df5 = data[['q30', 'q33', 'q34']]\n",
    "df5 = df5.dropna()\n",
    "prosh = df5['q33'].values\n",
    "etot = df5['q34'].values"
   ]
  },
  {
   "cell_type": "code",
   "execution_count": 85,
   "metadata": {},
   "outputs": [
    {
     "data": {
      "text/plain": [
       "Ttest_relResult(statistic=-6.3757217182337484, pvalue=8.05082377916037e-10)"
      ]
     },
     "execution_count": 85,
     "metadata": {},
     "output_type": "execute_result"
    }
   ],
   "source": [
    "ttest_rel(prosh, etot)"
   ]
  },
  {
   "cell_type": "code",
   "execution_count": 86,
   "metadata": {},
   "outputs": [
    {
     "data": {
      "text/plain": [
       "False"
      ]
     },
     "execution_count": 86,
     "metadata": {},
     "output_type": "execute_result"
    }
   ],
   "source": [
    "ttest_rel(prosh, etot)[1] > 0.05"
   ]
  },
  {
   "cell_type": "markdown",
   "metadata": {},
   "source": [
    "# Мы отклоняем нулевую гипотезу и принимаем альтернативную: затраты значимо различаются"
   ]
  },
  {
   "cell_type": "code",
   "execution_count": 87,
   "metadata": {},
   "outputs": [
    {
     "name": "stdout",
     "output_type": "stream",
     "text": [
      "700.65 48.58 0.78\n"
     ]
    }
   ],
   "source": [
    "# на сколько?\n",
    "delta = np.mean(etot)-np.mean(prosh)\n",
    "delta_prcnt = (np.mean(etot)/np.mean(prosh) - 1)*100\n",
    "correlation = np.corrcoef(prosh, etot)\n",
    "print(round(delta, 2), round(delta_prcnt, 2), round(correlation[0,1],2))"
   ]
  },
  {
   "cell_type": "markdown",
   "metadata": {},
   "source": [
    "3.3. №30, 33, 34. траты на обучение в 2004 по сравн. с 2003. выше \"живём неплохо\" в 30-м (paired samples t-test) 4shk"
   ]
  },
  {
   "cell_type": "code",
   "execution_count": 88,
   "metadata": {},
   "outputs": [
    {
     "data": {
      "text/plain": [
       "Ttest_relResult(statistic=-5.927485434906174, pvalue=1.511452648851762e-08)"
      ]
     },
     "execution_count": 88,
     "metadata": {},
     "output_type": "execute_result"
    }
   ],
   "source": [
    "df4 = pd.read_csv('04shk.csv')\n",
    "data = df4[(df4['q30'] != 'Часто не хватает средств на самое необходимое, даже на норма')\n",
    "           & (df4['q30'] != '0')\n",
    "           & (df4['q30'] != 'Живем неплохо. Нормально питаемся, покупаем кое-что из модно')\n",
    "           & (df4['q30'] != 'Удается сводить концы с концами, нормально питаемся. Приобре')]\n",
    "df5 = data[['q30', 'q33', 'q34']]\n",
    "df5 = df5.dropna()\n",
    "prosh = df5['q33'].values\n",
    "etot = df5['q34'].values\n",
    "ttest_rel(prosh, etot)"
   ]
  },
  {
   "cell_type": "code",
   "execution_count": 89,
   "metadata": {},
   "outputs": [
    {
     "data": {
      "text/plain": [
       "False"
      ]
     },
     "execution_count": 89,
     "metadata": {},
     "output_type": "execute_result"
    }
   ],
   "source": [
    "ttest_rel(prosh, etot)[1] > 0.05"
   ]
  },
  {
   "cell_type": "markdown",
   "metadata": {},
   "source": [
    "# Мы отклоняем нулевую гипотезу и принимаем альтернативную: затраты значимо различаются"
   ]
  },
  {
   "cell_type": "code",
   "execution_count": 91,
   "metadata": {},
   "outputs": [
    {
     "name": "stdout",
     "output_type": "stream",
     "text": [
      "1130.03 59.27 0.71\n"
     ]
    }
   ],
   "source": [
    "# на сколько?\n",
    "delta = np.mean(etot)-np.mean(prosh)\n",
    "delta_prcnt = (np.mean(etot)/np.mean(prosh) - 1)*100\n",
    "correlation = np.corrcoef(prosh, etot)\n",
    "print(round(delta, 2), round(delta_prcnt, 2), round(correlation[0,1],2))"
   ]
  }
 ],
 "metadata": {
  "kernelspec": {
   "display_name": "Python 3",
   "language": "python",
   "name": "python3"
  },
  "language_info": {
   "codemirror_mode": {
    "name": "ipython",
    "version": 3
   },
   "file_extension": ".py",
   "mimetype": "text/x-python",
   "name": "python",
   "nbconvert_exporter": "python",
   "pygments_lexer": "ipython3",
   "version": "3.6.4"
  }
 },
 "nbformat": 4,
 "nbformat_minor": 2
}
